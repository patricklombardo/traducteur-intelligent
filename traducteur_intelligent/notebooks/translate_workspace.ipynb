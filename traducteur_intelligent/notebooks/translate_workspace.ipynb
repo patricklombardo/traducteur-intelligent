{
 "cells": [
  {
   "cell_type": "code",
   "execution_count": 1,
   "metadata": {},
   "outputs": [],
   "source": [
    "from dotenv import load_dotenv\n",
    "from langchain_core.output_parsers import StrOutputParser\n",
    "from langchain_core.prompts import ChatPromptTemplate\n",
    "from langchain_core.runnables import RunnablePassthrough\n",
    "from langchain_openai import ChatOpenAI"
   ]
  },
  {
   "cell_type": "code",
   "execution_count": 4,
   "metadata": {},
   "outputs": [],
   "source": [
    "sample_text = \"\"\"\"\n",
    "Data governance is everything you do to ensure data is secure, private, accurate, available, and usable. It includes the actions people must take, the processes they must follow, and the technology that supports them throughout the data life cycle.\n",
    "\n",
    "Data governance means setting internal standards—data policies—that apply to how data is gathered, stored, processed, and disposed of. It governs who can access what kinds of data and what kinds of data are under governance. Data governance also involves complying with external standards set by industry associations, government agencies, and other stakeholders. \n",
    "\n",
    "Make better, more timely decisions\n",
    "Users throughout your organization get the data they need to reach and service customers, design and improve products and services, and seize opportunities for new revenues.\n",
    "\n",
    "Improve cost controls\n",
    "Data helps you manage resources more effectively. Because you can eliminate data duplication caused by information silos, you don't overbuy—and have to maintain—expensive hardware.\n",
    "\n",
    "Enhance regulatory compliance\n",
    "An increasingly complex regulatory climate has made it even more important for organizations to establish robust data governance practices. You avoid risks associated with noncompliance while proactively anticipating new regulations.\n",
    "\n",
    "Manage risk more easily\n",
    "With strong governance, you can allay concerns about exposure of sensitive data to individuals or systems who lack proper authorization, security breaches from malicious outsiders, or even insiders accessing data they don’t have the right to see. \n",
    "\n",
    "\"\"\""
   ]
  },
  {
   "cell_type": "code",
   "execution_count": 7,
   "metadata": {},
   "outputs": [],
   "source": [
    "template =\"\"\"\n",
    "Vous êtes traducteur assermenté et vous êtes chargé de traduire le document suivant de l'anglais en français. La traduction que vous rédigez doit être surtout claire et correcte et il devrait surtout préserver le sens du texte original. Le langage que vous utilisez est naturel et compréhensible. D'ailleurs, vous vous permettez d'utiliser des expressions idiomatiques où vous en avez besoin.\n",
    "\n",
    "Document:\n",
    "{document}\n",
    "\"\"\"\n",
    "\n",
    "prompt = ChatPromptTemplate.from_template(template)\n",
    "model = ChatOpenAI(temperature=0)"
   ]
  },
  {
   "cell_type": "code",
   "execution_count": 14,
   "metadata": {},
   "outputs": [],
   "source": [
    "translation_chain = ({\"document\": RunnablePassthrough()}\n",
    "         | prompt\n",
    "         | model\n",
    "         | StrOutputParser()\n",
    ")"
   ]
  },
  {
   "cell_type": "code",
   "execution_count": 10,
   "metadata": {},
   "outputs": [],
   "source": [
    "output = translation_chain.invoke(sample_text)"
   ]
  },
  {
   "cell_type": "code",
   "execution_count": 12,
   "metadata": {},
   "outputs": [
    {
     "name": "stdout",
     "output_type": "stream",
     "text": [
      "La gouvernance des données consiste à tout ce que vous faites pour garantir que les données sont sécurisées, privées, précises, disponibles et utilisables. Cela inclut les actions que les gens doivent prendre, les processus qu'ils doivent suivre et la technologie qui les soutient tout au long du cycle de vie des données.\n",
      "\n",
      "La gouvernance des données signifie établir des normes internes - des politiques de données - qui s'appliquent à la manière dont les données sont collectées, stockées, traitées et éliminées. Elle régit qui peut accéder à quel type de données et quels types de données relèvent de la gouvernance. La gouvernance des données implique également de se conformer aux normes externes établies par des associations industrielles, des agences gouvernementales et d'autres parties prenantes.\n",
      "\n",
      "Prendre de meilleures décisions, plus rapidement\n",
      "Les utilisateurs de toute votre organisation obtiennent les données dont ils ont besoin pour atteindre et servir les clients, concevoir et améliorer des produits et services, et saisir des opportunités de nouveaux revenus.\n",
      "\n",
      "Améliorer le contrôle des coûts\n",
      "Les données vous aident à gérer les ressources de manière plus efficace. En éliminant la duplication des données causée par les silos d'information, vous n'achetez pas en excès - et n'avez pas à entretenir - du matériel coûteux.\n",
      "\n",
      "Renforcer la conformité réglementaire\n",
      "Un climat réglementaire de plus en plus complexe rend encore plus important pour les organisations d'établir des pratiques de gouvernance des données robustes. Vous évitez les risques liés à la non-conformité tout en anticipant de manière proactive les nouvelles réglementations.\n",
      "\n",
      "Gérer plus facilement les risques\n",
      "Avec une gouvernance solide, vous pouvez apaiser les préoccupations concernant l'exposition des données sensibles à des individus ou des systèmes qui ne disposent pas de l'autorisation adéquate, les violations de sécurité par des acteurs malveillants de l'extérieur, voire des employés accédant à des données auxquelles ils n'ont pas le droit d'accéder.\n"
     ]
    }
   ],
   "source": [
    "print(output)"
   ]
  },
  {
   "cell_type": "code",
   "execution_count": 24,
   "metadata": {},
   "outputs": [],
   "source": [
    "critique_template = \"\"\"\"\n",
    "Vous êtes traducteur professionnel et vous révisez la traduction d'un collègue. Veuillez lire attentivement le document original et sa traduction et donner vos commentaires pour que le traducteur puisse améliorer sa traduction. Vos commentaires pourraient prendre en compte la fluidité de langage et la préservation du sens original du texte. Le document que vous traduisez est destiné à une audience Canadien.\n",
    "\n",
    "Document originale en anglais :\n",
    "{document}\n",
    "\n",
    "Traduction :\n",
    "{translation}\n",
    "\"\"\"\n",
    "\n",
    "critique_prompt = ChatPromptTemplate.from_template(critique_template)"
   ]
  },
  {
   "cell_type": "code",
   "execution_count": 40,
   "metadata": {},
   "outputs": [],
   "source": [
    "critique_chain = {\"document\": RunnablePassthrough(), \"translation\": RunnablePassthrough()} | critique_prompt | model | StrOutputParser()"
   ]
  },
  {
   "cell_type": "code",
   "execution_count": 47,
   "metadata": {},
   "outputs": [],
   "source": [
    "rewrite_template = \"\"\"\"\n",
    "Vous êtes traducteur et vous venez de recevoir des commentaires d'un collègue concernant l'une de vos traductions. Veuillez réviser la traduction en prenant en compte ses commentaires.\n",
    "\n",
    "Document originale en anglais :\n",
    "{document}\n",
    "\n",
    "Traduction :\n",
    "{translation}\n",
    "\n",
    "Commentaires :\n",
    "{critique}\n",
    "\n",
    "Révision:\n",
    "\"\"\"\n",
    "\n",
    "rewrite_prompt = ChatPromptTemplate.from_template(rewrite_template)"
   ]
  },
  {
   "cell_type": "code",
   "execution_count": 48,
   "metadata": {},
   "outputs": [],
   "source": [
    "rewrite_translation_chain = (\n",
    "    {\n",
    "        \"document\": RunnablePassthrough(),\n",
    "        \"translation\": RunnablePassthrough() | translation_chain,\n",
    "    }\n",
    "    | {\n",
    "        \"document\": RunnablePassthrough(),\n",
    "        \"translation\": RunnablePassthrough(),\n",
    "        \"critique\": RunnablePassthrough() | critique_chain,\n",
    "    }\n",
    "    | rewrite_prompt\n",
    "    | model\n",
    "    | StrOutputParser()\n",
    ")"
   ]
  },
  {
   "cell_type": "code",
   "execution_count": 49,
   "metadata": {},
   "outputs": [],
   "source": [
    "translation = rewrite_translation_chain.invoke(sample_text)"
   ]
  },
  {
   "cell_type": "code",
   "execution_count": 50,
   "metadata": {},
   "outputs": [
    {
     "name": "stdout",
     "output_type": "stream",
     "text": [
      "La gouvernance des données est tout ce que vous faites pour garantir que les données sont sécurisées, privées, précises, disponibles et utilisables. Cela inclut les actions que les personnes doivent prendre, les processus qu'elles doivent suivre et la technologie qui les soutient tout au long du cycle de vie des données.\n",
      "\n",
      "La gouvernance des données signifie établir des normes internes - des politiques de données - qui s'appliquent à la manière dont les données sont collectées, stockées, traitées et éliminées. Elle régit qui peut accéder à quels types de données et quels types de données relèvent de la gouvernance. La gouvernance des données implique également de se conformer aux normes externes établies par des associations industrielles, des agences gouvernementales et d'autres parties prenantes.\n",
      "\n",
      "Prendre de meilleures décisions, plus rapidement\n",
      "Les utilisateurs de votre organisation obtiennent les données dont ils ont besoin pour atteindre et servir les clients, concevoir et améliorer des produits et services, et saisir des opportunités de nouveaux revenus.\n",
      "\n",
      "Améliorer les contrôles de coûts\n",
      "Les données vous aident à gérer les ressources de manière plus efficace. En éliminant la duplication des données causée par les silos d'information, vous n'achetez pas en excès - et n'avez pas à entretenir - du matériel coûteux.\n",
      "\n",
      "Renforcer la conformité réglementaire\n",
      "Un climat réglementaire de plus en plus complexe a rendu encore plus important pour les organisations d'établir des pratiques de gouvernance des données solides. Vous évitez les risques liés à la non-conformité tout en anticipant de manière proactive les nouvelles réglementations.\n",
      "\n",
      "Gérer plus facilement les risques\n",
      "Avec une gouvernance solide, vous pouvez apaiser les préoccupations concernant l'exposition des données sensibles à des individus ou des systèmes qui manquent d'autorisation adéquate, les violations de sécurité par des acteurs malveillants, voire les employés accédant à des données auxquelles ils n'ont pas le droit d'accéder.\n"
     ]
    }
   ],
   "source": [
    "print(translation)"
   ]
  },
  {
   "cell_type": "code",
   "execution_count": null,
   "metadata": {},
   "outputs": [],
   "source": []
  }
 ],
 "metadata": {
  "kernelspec": {
   "display_name": "traducteur-intelligent-e7h4oXGq-py3.10",
   "language": "python",
   "name": "python3"
  },
  "language_info": {
   "codemirror_mode": {
    "name": "ipython",
    "version": 3
   },
   "file_extension": ".py",
   "mimetype": "text/x-python",
   "name": "python",
   "nbconvert_exporter": "python",
   "pygments_lexer": "ipython3",
   "version": "3.10.13"
  }
 },
 "nbformat": 4,
 "nbformat_minor": 2
}
